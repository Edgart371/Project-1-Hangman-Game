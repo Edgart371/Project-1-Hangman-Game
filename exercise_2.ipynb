{
 "cells": [
  {
   "cell_type": "code",
   "execution_count": 6,
   "id": "d814f444",
   "metadata": {},
   "outputs": [
    {
     "name": "stdout",
     "output_type": "stream",
     "text": [
      "Player 1: Please enter your word: hello\n"
     ]
    }
   ],
   "source": [
    "#input word \n",
    "x = input(\"Player 1: Please enter your word: \")\n",
    "flag1 = False\n",
    "while flag1 == False:\n",
    "    if x.strip().isdigit() == False:\n",
    "        break\n",
    "    else:\n",
    "        x = input(\"Error: Please enter a word: \")\n",
    "        flag1 = True \n",
    "x = x.lower()\n",
    "import re\n",
    "lst_of_og_letters = re.findall(r\"[a-z]\",x)\n",
    "\n",
    "l=list(x)"
   ]
  },
  {
   "cell_type": "code",
   "execution_count": 14,
   "id": "d55d9089",
   "metadata": {},
   "outputs": [
    {
     "data": {
      "text/plain": [
       "['h', 'e', 'l', 'l', 'o']"
      ]
     },
     "execution_count": 14,
     "metadata": {},
     "output_type": "execute_result"
    }
   ],
   "source": [
    "x\n",
    "l"
   ]
  },
  {
   "cell_type": "code",
   "execution_count": 8,
   "id": "684d322b",
   "metadata": {},
   "outputs": [
    {
     "data": {
      "text/plain": [
       "{'e', 'h', 'l', 'o'}"
      ]
     },
     "execution_count": 8,
     "metadata": {},
     "output_type": "execute_result"
    }
   ],
   "source": [
    "cl = set(l)\n",
    "cl"
   ]
  },
  {
   "cell_type": "code",
   "execution_count": 10,
   "id": "a71bf155",
   "metadata": {},
   "outputs": [],
   "source": [
    "d=dict()\n",
    "cl = set(l)\n",
    "answers_list=list(range(0, len(l)))\n",
    "\n",
    "for c in cl:\n",
    "    lst =[]\n",
    "    for pos,char in enumerate(x):\n",
    "        if(char == c):\n",
    "            lst.append(pos)\n",
    "            d[c]=lst"
   ]
  },
  {
   "cell_type": "code",
   "execution_count": 15,
   "id": "24378c94",
   "metadata": {},
   "outputs": [
    {
     "name": "stdout",
     "output_type": "stream",
     "text": [
      "<enumerate object at 0x00000276A46F8440>\n"
     ]
    }
   ],
   "source": []
  },
  {
   "cell_type": "code",
   "execution_count": 11,
   "id": "b88758cb",
   "metadata": {},
   "outputs": [
    {
     "data": {
      "text/plain": [
       "{'h': [0], 'e': [1], 'l': [2, 3], 'o': [4]}"
      ]
     },
     "execution_count": 11,
     "metadata": {},
     "output_type": "execute_result"
    }
   ],
   "source": [
    "d"
   ]
  },
  {
   "cell_type": "code",
   "execution_count": 23,
   "id": "c5411626",
   "metadata": {},
   "outputs": [
    {
     "name": "stdout",
     "output_type": "stream",
     "text": [
      "Player 1: Please enter your word: hello\n",
      "Player 2: Please enter a letter: h\n",
      "['h', 1, 2, 3, 4]\n",
      "Player 2: Please enter a letter: e\n",
      "['h', 'e', 2, 3, 4]\n",
      "Player 2: Please enter a letter: l\n",
      "['h', 'e', 'l', 3, 4]\n",
      "['h', 'e', 'l', 'l', 4]\n",
      "Player 2: Please enter a letter: o\n",
      "['h', 'e', 'l', 'l', 'o']\n",
      "PLAYER 2 WINS!!\n"
     ]
    }
   ],
   "source": [
    "#user guesses letters\n",
    "x = input(\"Player 1: Please enter your word: \")\n",
    "flag1 = False\n",
    "while flag1 == False:\n",
    "    if x.strip().isdigit() == False:\n",
    "        break\n",
    "    else:\n",
    "        x = input(\"Error: Please enter a word: \")\n",
    "        flag1 = True \n",
    "x = x.lower()\n",
    "import re\n",
    "lst_of_og_letters = re.findall(r\"[a-z]\",x)\n",
    "\n",
    "l=list(x)\n",
    "\n",
    "\n",
    "##\n",
    "\n",
    "\n",
    "d=dict()\n",
    "cl = set(l)\n",
    "answers_list=list(range(0, len(l)))\n",
    "\n",
    "for c in cl:\n",
    "    lst =[]\n",
    "    for pos,char in enumerate(x):\n",
    "        if(char == c):\n",
    "            lst.append(pos)\n",
    "            d[c]=lst\n",
    "\n",
    "##\n",
    "\n",
    "\n",
    "Life = 12 \n",
    "lst_of_input_letters = []\n",
    "\n",
    "while Life > 0 and lst_of_og_letters != answers_list:\n",
    "        y = input(\"Player 2: Please enter a letter: \")\n",
    "\n",
    "        flag2 = False\n",
    "        while flag2 == False:\n",
    "            if y.strip().isdigit() == False:\n",
    "                break\n",
    "            else:\n",
    "                y = input(\"Error: Please enter a letter: \")\n",
    "                flag2 = True \n",
    "        y = y.lower()\n",
    "        if y in lst_of_og_letters:\n",
    "            for i in d[y]:\n",
    "                answers_list[i]=y\n",
    "                print(answers_list)\n",
    "            \n",
    "        elif y not in lst_of_og_letters:\n",
    "            print(\"not in word\")\n",
    "            Life -= 1\n",
    "            \n",
    "if Life == 0:\n",
    "    print(\"PLAYER 1 WINS!!\")\n",
    "elif answers_list == lst_of_og_letters:\n",
    "    print(\"PLAYER 2 WINS!!\")   \n"
   ]
  },
  {
   "cell_type": "code",
   "execution_count": null,
   "id": "70b3277e",
   "metadata": {},
   "outputs": [],
   "source": []
  }
 ],
 "metadata": {
  "kernelspec": {
   "display_name": "Python 3 (ipykernel)",
   "language": "python",
   "name": "python3"
  },
  "language_info": {
   "codemirror_mode": {
    "name": "ipython",
    "version": 3
   },
   "file_extension": ".py",
   "mimetype": "text/x-python",
   "name": "python",
   "nbconvert_exporter": "python",
   "pygments_lexer": "ipython3",
   "version": "3.9.7"
  }
 },
 "nbformat": 4,
 "nbformat_minor": 5
}
