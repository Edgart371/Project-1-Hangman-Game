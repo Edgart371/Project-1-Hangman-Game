{
 "cells": [
  {
   "cell_type": "code",
   "execution_count": 1,
   "id": "dde99f63",
   "metadata": {},
   "outputs": [
    {
     "ename": "KeyboardInterrupt",
     "evalue": "Interrupted by user",
     "output_type": "error",
     "traceback": [
      "\u001b[1;31m---------------------------------------------------------------------------\u001b[0m",
      "\u001b[1;31mKeyboardInterrupt\u001b[0m                         Traceback (most recent call last)",
      "\u001b[1;32m~\\AppData\\Local\\Temp/ipykernel_2660/3147675434.py\u001b[0m in \u001b[0;36m<module>\u001b[1;34m\u001b[0m\n\u001b[0;32m      1\u001b[0m \u001b[1;31m#input word\u001b[0m\u001b[1;33m\u001b[0m\u001b[1;33m\u001b[0m\u001b[0m\n\u001b[1;32m----> 2\u001b[1;33m \u001b[0mx\u001b[0m \u001b[1;33m=\u001b[0m \u001b[0minput\u001b[0m\u001b[1;33m(\u001b[0m\u001b[1;34m\"Player 1: Please enter your word: \"\u001b[0m\u001b[1;33m)\u001b[0m\u001b[1;33m\u001b[0m\u001b[1;33m\u001b[0m\u001b[0m\n\u001b[0m\u001b[0;32m      3\u001b[0m \u001b[0mflag1\u001b[0m \u001b[1;33m=\u001b[0m \u001b[1;32mFalse\u001b[0m\u001b[1;33m\u001b[0m\u001b[1;33m\u001b[0m\u001b[0m\n\u001b[0;32m      4\u001b[0m \u001b[1;32mwhile\u001b[0m \u001b[0mflag1\u001b[0m \u001b[1;33m==\u001b[0m \u001b[1;32mFalse\u001b[0m\u001b[1;33m:\u001b[0m\u001b[1;33m\u001b[0m\u001b[1;33m\u001b[0m\u001b[0m\n\u001b[0;32m      5\u001b[0m     \u001b[1;32mif\u001b[0m \u001b[0mx\u001b[0m\u001b[1;33m.\u001b[0m\u001b[0mstrip\u001b[0m\u001b[1;33m(\u001b[0m\u001b[1;33m)\u001b[0m\u001b[1;33m.\u001b[0m\u001b[0misdigit\u001b[0m\u001b[1;33m(\u001b[0m\u001b[1;33m)\u001b[0m \u001b[1;33m==\u001b[0m \u001b[1;32mFalse\u001b[0m\u001b[1;33m:\u001b[0m\u001b[1;33m\u001b[0m\u001b[1;33m\u001b[0m\u001b[0m\n",
      "\u001b[1;32m~\\anaconda3\\lib\\site-packages\\ipykernel\\kernelbase.py\u001b[0m in \u001b[0;36mraw_input\u001b[1;34m(self, prompt)\u001b[0m\n\u001b[0;32m   1004\u001b[0m                 \u001b[1;34m\"raw_input was called, but this frontend does not support input requests.\"\u001b[0m\u001b[1;33m\u001b[0m\u001b[1;33m\u001b[0m\u001b[0m\n\u001b[0;32m   1005\u001b[0m             )\n\u001b[1;32m-> 1006\u001b[1;33m         return self._input_request(\n\u001b[0m\u001b[0;32m   1007\u001b[0m             \u001b[0mstr\u001b[0m\u001b[1;33m(\u001b[0m\u001b[0mprompt\u001b[0m\u001b[1;33m)\u001b[0m\u001b[1;33m,\u001b[0m\u001b[1;33m\u001b[0m\u001b[1;33m\u001b[0m\u001b[0m\n\u001b[0;32m   1008\u001b[0m             \u001b[0mself\u001b[0m\u001b[1;33m.\u001b[0m\u001b[0m_parent_ident\u001b[0m\u001b[1;33m[\u001b[0m\u001b[1;34m\"shell\"\u001b[0m\u001b[1;33m]\u001b[0m\u001b[1;33m,\u001b[0m\u001b[1;33m\u001b[0m\u001b[1;33m\u001b[0m\u001b[0m\n",
      "\u001b[1;32m~\\anaconda3\\lib\\site-packages\\ipykernel\\kernelbase.py\u001b[0m in \u001b[0;36m_input_request\u001b[1;34m(self, prompt, ident, parent, password)\u001b[0m\n\u001b[0;32m   1049\u001b[0m             \u001b[1;32mexcept\u001b[0m \u001b[0mKeyboardInterrupt\u001b[0m\u001b[1;33m:\u001b[0m\u001b[1;33m\u001b[0m\u001b[1;33m\u001b[0m\u001b[0m\n\u001b[0;32m   1050\u001b[0m                 \u001b[1;31m# re-raise KeyboardInterrupt, to truncate traceback\u001b[0m\u001b[1;33m\u001b[0m\u001b[1;33m\u001b[0m\u001b[0m\n\u001b[1;32m-> 1051\u001b[1;33m                 \u001b[1;32mraise\u001b[0m \u001b[0mKeyboardInterrupt\u001b[0m\u001b[1;33m(\u001b[0m\u001b[1;34m\"Interrupted by user\"\u001b[0m\u001b[1;33m)\u001b[0m \u001b[1;32mfrom\u001b[0m \u001b[1;32mNone\u001b[0m\u001b[1;33m\u001b[0m\u001b[1;33m\u001b[0m\u001b[0m\n\u001b[0m\u001b[0;32m   1052\u001b[0m             \u001b[1;32mexcept\u001b[0m \u001b[0mException\u001b[0m\u001b[1;33m:\u001b[0m\u001b[1;33m\u001b[0m\u001b[1;33m\u001b[0m\u001b[0m\n\u001b[0;32m   1053\u001b[0m                 \u001b[0mself\u001b[0m\u001b[1;33m.\u001b[0m\u001b[0mlog\u001b[0m\u001b[1;33m.\u001b[0m\u001b[0mwarning\u001b[0m\u001b[1;33m(\u001b[0m\u001b[1;34m\"Invalid Message:\"\u001b[0m\u001b[1;33m,\u001b[0m \u001b[0mexc_info\u001b[0m\u001b[1;33m=\u001b[0m\u001b[1;32mTrue\u001b[0m\u001b[1;33m)\u001b[0m\u001b[1;33m\u001b[0m\u001b[1;33m\u001b[0m\u001b[0m\n",
      "\u001b[1;31mKeyboardInterrupt\u001b[0m: Interrupted by user"
     ]
    }
   ],
   "source": [
    "#input word \n",
    "x = input(\"Player 1: Please enter your word: \")\n",
    "flag1 = False\n",
    "while flag1 == False:\n",
    "    if x.strip().isdigit() == False:\n",
    "        break\n",
    "    else:\n",
    "        x = input(\"Error: Please enter a word: \")\n",
    "        flag1 = True \n",
    "x = x.lower()\n",
    "import re\n",
    "lst_of_og_letters = re.findall(r\"[a-z]\",x)\n",
    "\n",
    "l=list(x)"
   ]
  },
  {
   "cell_type": "code",
   "execution_count": null,
   "id": "125294bd",
   "metadata": {},
   "outputs": [],
   "source": [
    "x\n",
    "l"
   ]
  },
  {
   "cell_type": "code",
   "execution_count": null,
   "id": "99f2c2cd",
   "metadata": {},
   "outputs": [],
   "source": [
    "cl = set(l)\n",
    "cl"
   ]
  },
  {
   "cell_type": "code",
   "execution_count": null,
   "id": "917490f2",
   "metadata": {},
   "outputs": [],
   "source": [
    "d=dict()\n",
    "cl = set(l)\n",
    "answers_list=list(range(0, len(l)))\n",
    "\n",
    "for c in cl:\n",
    "    lst =[]\n",
    "    for pos,char in enumerate(x):\n",
    "        if(char == c):\n",
    "            lst.append(pos)\n",
    "            d[c]=lst"
   ]
  },
  {
   "cell_type": "code",
   "execution_count": null,
   "id": "ae1c83af",
   "metadata": {},
   "outputs": [],
   "source": []
  },
  {
   "cell_type": "code",
   "execution_count": null,
   "id": "ee2e5f7a",
   "metadata": {},
   "outputs": [],
   "source": [
    "d"
   ]
  },
  {
   "cell_type": "code",
   "execution_count": null,
   "id": "22a22426",
   "metadata": {},
   "outputs": [],
   "source": [
    "#user guesses letters\n",
    "x = input(\"Player 1: Please enter your word: \")\n",
    "flag1 = False\n",
    "while flag1 == False:\n",
    "    if x.strip().isdigit() == False:\n",
    "        break\n",
    "    else:\n",
    "        x = input(\"Error: Please enter a word: \")\n",
    "        flag1 = True \n",
    "x = x.lower()\n",
    "import re\n",
    "lst_of_og_letters = re.findall(r\"[a-z]\",x)\n",
    "\n",
    "l=list(x)\n",
    "\n",
    "\n",
    "##\n",
    "\n",
    "\n",
    "d=dict()\n",
    "cl = set(l)\n",
    "answers_list=list(range(0, len(l)))\n",
    "\n",
    "for c in cl:\n",
    "    lst =[]\n",
    "    for pos,char in enumerate(x):\n",
    "        if(char == c):\n",
    "            lst.append(pos)\n",
    "            d[c]=lst\n",
    "\n",
    "##\n",
    "\n",
    "\n",
    "Life = 12 \n",
    "lst_of_input_letters = []\n",
    "\n",
    "while Life > 0 and lst_of_og_letters != answers_list:\n",
    "        y = input(\"Player 2: Please enter a letter: \")\n",
    "        flag2 = False\n",
    "        while flag2 == False:\n",
    "            if y.strip().isdigit() == False:\n",
    "                break\n",
    "            else:\n",
    "                y = input(\"Error: Please enter a letter: \")\n",
    "                flag2 = True \n",
    "        y = y.lower()\n",
    "        if y in lst_of_og_letters:\n",
    "            for i in d[y]:\n",
    "                answers_list[i]=y\n",
    "                print(answers_list)   \n",
    "        elif y not in lst_of_og_letters:\n",
    "            print(\"not in word\")\n",
    "            Life -= 1\n",
    "            print(Life)\n",
    "            \n",
    "if Life == 0:\n",
    "    print(\"PLAYER 1 WINS!!\")\n",
    "elif answers_list == lst_of_og_letters:\n",
    "    print(\"PLAYER 2 WINS!!\")   \n"
   ]
  },
  {
   "cell_type": "code",
   "execution_count": null,
   "id": "d8dbba6d",
   "metadata": {},
   "outputs": [],
   "source": [
    "x = input(\"Player 1: Please enter your word: \")\n",
    "flag1 = False\n",
    "while flag1 == False:\n",
    "    if x.strip().isdigit() == False:\n",
    "        break\n",
    "    else:\n",
    "        x = input(\"Error: Please enter a word: \")\n",
    "        flag1 = True \n",
    "x = x.lower()\n",
    "import re\n",
    "lst_of_og_letters = re.findall(r\"[a-z]\",x)\n",
    "\n",
    "Life = 12 \n",
    "lst_of_input_letters = []\n",
    "while Life > 0 and lst_of_og_letters != lst_of_input_letters:\n",
    "        y = input(\"Player 2: Please enter a letter: \")\n",
    "        y = y.lower()\n",
    "        flag2 = False\n",
    "        while flag2 == False:\n",
    "            if y.strip().isdigit() == False:\n",
    "                break\n",
    "            else:\n",
    "                y = input(\"Error: Please enter a letter: \")\n",
    "                flag2 = True \n",
    "        y = y.lower()\n",
    "        if y in lst_of_og_letters:\n",
    "            print(y)\n",
    "            lst_of_input_letters.append(y)\n",
    "        elif y not in lst_of_og_letters:\n",
    "            print(\"not in word\")\n",
    "            Life -= 1\n",
    "if Life == 0:\n",
    "    print(\"PLAYER 1 WINS!!\")\n",
    "elif lst_of_input_letters == lst_of_og_letters:\n",
    "    print(\"PLAYER 2 WINS!!\")"
   ]
  },
  {
   "cell_type": "code",
   "execution_count": null,
   "id": "0757ad23",
   "metadata": {},
   "outputs": [],
   "source": []
  }
 ],
 "metadata": {
  "kernelspec": {
   "display_name": "Python 3 (ipykernel)",
   "language": "python",
   "name": "python3"
  },
  "language_info": {
   "codemirror_mode": {
    "name": "ipython",
    "version": 3
   },
   "file_extension": ".py",
   "mimetype": "text/x-python",
   "name": "python",
   "nbconvert_exporter": "python",
   "pygments_lexer": "ipython3",
   "version": "3.9.7"
  }
 },
 "nbformat": 4,
 "nbformat_minor": 5
}
