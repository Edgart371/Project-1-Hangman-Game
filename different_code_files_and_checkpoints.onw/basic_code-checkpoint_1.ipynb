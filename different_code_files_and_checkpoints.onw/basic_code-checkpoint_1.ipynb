{
 "cells": [
  {
   "cell_type": "code",
   "execution_count": null,
   "id": "0be36d82",
   "metadata": {},
   "outputs": [],
   "source": [
    "#code with new condition"
   ]
  },
  {
   "cell_type": "code",
   "execution_count": null,
   "id": "ea7671a1",
   "metadata": {},
   "outputs": [
    {
     "name": "stdout",
     "output_type": "stream",
     "text": [
      "Player 1: Please enter your word: computer\n",
      "Player 2: Please enter a letter: k\n",
      "not in word\n",
      "11\n"
     ]
    }
   ],
   "source": [
    "x = input(\"Player 1: Please enter your word: \")\n",
    "flag1 = False\n",
    "while flag1 == False:\n",
    "    if x.strip().isdigit() == False:\n",
    "        break\n",
    "    else:\n",
    "        x = input(\"Error: Please enter a word: \")\n",
    "        flag1 = True \n",
    "x = x.lower()\n",
    "import re\n",
    "lst_of_og_letters = re.findall(r\"[a-z]\",x)\n",
    "print(\"The length of the input word is: \",len(lst_of_og_letters))\n",
    "\n",
    "Life = 12 \n",
    "lst_of_input_letters = []\n",
    "while Life > 0 and sorted(lst_of_og_letters) != sorted(lst_of_input_letters):\n",
    "        y = input(\"Player 2: Please enter a letter: \")\n",
    "        y = y.lower()\n",
    "        flag2 = False\n",
    "        while flag2 == False:\n",
    "            if y.strip().isdigit() == False:\n",
    "                break\n",
    "            else:\n",
    "                y = input(\"Error: Please enter a letter: \")\n",
    "                flag2 = True \n",
    "        y = y.lower()\n",
    "        if y in lst_of_og_letters:\n",
    "            print(y)\n",
    "            lst_of_input_letters.append(y)\n",
    "        elif y not in lst_of_og_letters:\n",
    "            print(\"not in word\")\n",
    "            Life -= 1\n",
    "            print(Life)\n",
    "if Life == 0:\n",
    "    print(\"PLAYER 1 WINS!!\")\n",
    "elif sorted(lst_of_og_letters) == sorted(lst_of_input_letters):\n",
    "    print(\"PLAYER 2 WINS!!\", x)"
   ]
  },
  {
   "cell_type": "code",
   "execution_count": 12,
   "id": "92e434b7",
   "metadata": {},
   "outputs": [
    {
     "name": "stdout",
     "output_type": "stream",
     "text": [
      "Player 1: Please enter your word: hello\n",
      "Player 2: Please enter a letter: h\n",
      "h\n",
      "['h']\n",
      "Player 2: Please enter a letter: e\n",
      "e\n",
      "['h', 'e']\n",
      "Player 2: Please enter a letter: o\n",
      "o\n",
      "['h', 'e', 'o']\n",
      "Player 2: Please enter a letter: l\n",
      "l\n",
      "['h', 'e', 'o']\n",
      "Player 2: Please enter a letter: l\n",
      "l\n",
      "['h', 'e', 'o']\n",
      "hello\n",
      "PLAYER 2 WINS!! None\n"
     ]
    }
   ],
   "source": [
    "x = input(\"Player 1: Please enter your word: \")\n",
    "flag1 = False\n",
    "while flag1 == False:\n",
    "    if x.strip().isdigit() == False:\n",
    "        break\n",
    "    else:\n",
    "        x = input(\"Error: Please enter a word: \")\n",
    "        flag1 = True \n",
    "x = x.lower()\n",
    "import re\n",
    "lst_of_og_letters = re.findall(r\"[a-z]\",x)\n",
    "\n",
    "Life = 12 \n",
    "lst_of_input_letters = []\n",
    "og_dic = {}\n",
    "while Life > 0 and sorted(lst_of_og_letters) != sorted(lst_of_input_letters):\n",
    "        y = input(\"Player 2: Please enter a letter: \")\n",
    "        y = y.lower()\n",
    "        flag2 = False\n",
    "        while flag2 == False:\n",
    "            if y.strip().isdigit() == False:\n",
    "                break\n",
    "            else:\n",
    "                y = input(\"Error: Please enter a letter: \")\n",
    "                flag2 = True \n",
    "        y = y.lower()\n",
    "        if y in lst_of_og_letters:\n",
    "            print(y)\n",
    "            lst_of_input_letters.append(y)\n",
    "            \n",
    "        elif y not in lst_of_og_letters:\n",
    "            print(\"not in word\")\n",
    "            Life -= 1\n",
    "if Life == 0:\n",
    "    print(\"PLAYER 1 WINS!!\")\n",
    "elif sorted(lst_of_og_letters) == sorted(lst_of_input_letters):\n",
    "    print(\"PLAYER 2 WINS!!\", x)"
   ]
  },
  {
   "cell_type": "code",
   "execution_count": 13,
   "id": "8e44bb0f",
   "metadata": {
    "scrolled": true
   },
   "outputs": [
    {
     "name": "stdout",
     "output_type": "stream",
     "text": [
      "Player 1: Please enter your word: hello\n",
      "Player 2: Please enter a letter: h\n",
      "h\n",
      "{'h': 0}\n",
      "Player 2: Please enter a letter: l\n",
      "l\n",
      "{'h': 0, 'l': 2}\n",
      "Player 2: Please enter a letter: l\n",
      "l\n",
      "{'h': 0, 'l': 2}\n"
     ]
    },
    {
     "ename": "KeyboardInterrupt",
     "evalue": "Interrupted by user",
     "output_type": "error",
     "traceback": [
      "\u001b[1;31m---------------------------------------------------------------------------\u001b[0m",
      "\u001b[1;31mKeyboardInterrupt\u001b[0m                         Traceback (most recent call last)",
      "\u001b[1;32m~\\AppData\\Local\\Temp/ipykernel_3644/1608922116.py\u001b[0m in \u001b[0;36m<module>\u001b[1;34m\u001b[0m\n\u001b[0;32m     15\u001b[0m \u001b[0mog_dic\u001b[0m \u001b[1;33m=\u001b[0m \u001b[1;33m{\u001b[0m\u001b[1;33m}\u001b[0m\u001b[1;33m\u001b[0m\u001b[1;33m\u001b[0m\u001b[0m\n\u001b[0;32m     16\u001b[0m \u001b[1;32mwhile\u001b[0m \u001b[0mLife\u001b[0m \u001b[1;33m>\u001b[0m \u001b[1;36m0\u001b[0m \u001b[1;32mand\u001b[0m \u001b[0msorted\u001b[0m\u001b[1;33m(\u001b[0m\u001b[0mlst_of_og_letters\u001b[0m\u001b[1;33m)\u001b[0m \u001b[1;33m!=\u001b[0m \u001b[0msorted\u001b[0m\u001b[1;33m(\u001b[0m\u001b[0mlst_of_input_letters\u001b[0m\u001b[1;33m)\u001b[0m\u001b[1;33m:\u001b[0m\u001b[1;33m\u001b[0m\u001b[1;33m\u001b[0m\u001b[0m\n\u001b[1;32m---> 17\u001b[1;33m         \u001b[0my\u001b[0m \u001b[1;33m=\u001b[0m \u001b[0minput\u001b[0m\u001b[1;33m(\u001b[0m\u001b[1;34m\"Player 2: Please enter a letter: \"\u001b[0m\u001b[1;33m)\u001b[0m\u001b[1;33m\u001b[0m\u001b[1;33m\u001b[0m\u001b[0m\n\u001b[0m\u001b[0;32m     18\u001b[0m         \u001b[0my\u001b[0m \u001b[1;33m=\u001b[0m \u001b[0my\u001b[0m\u001b[1;33m.\u001b[0m\u001b[0mlower\u001b[0m\u001b[1;33m(\u001b[0m\u001b[1;33m)\u001b[0m\u001b[1;33m\u001b[0m\u001b[1;33m\u001b[0m\u001b[0m\n\u001b[0;32m     19\u001b[0m         \u001b[0mflag2\u001b[0m \u001b[1;33m=\u001b[0m \u001b[1;32mFalse\u001b[0m\u001b[1;33m\u001b[0m\u001b[1;33m\u001b[0m\u001b[0m\n",
      "\u001b[1;32m~\\anaconda3\\lib\\site-packages\\ipykernel\\kernelbase.py\u001b[0m in \u001b[0;36mraw_input\u001b[1;34m(self, prompt)\u001b[0m\n\u001b[0;32m   1004\u001b[0m                 \u001b[1;34m\"raw_input was called, but this frontend does not support input requests.\"\u001b[0m\u001b[1;33m\u001b[0m\u001b[1;33m\u001b[0m\u001b[0m\n\u001b[0;32m   1005\u001b[0m             )\n\u001b[1;32m-> 1006\u001b[1;33m         return self._input_request(\n\u001b[0m\u001b[0;32m   1007\u001b[0m             \u001b[0mstr\u001b[0m\u001b[1;33m(\u001b[0m\u001b[0mprompt\u001b[0m\u001b[1;33m)\u001b[0m\u001b[1;33m,\u001b[0m\u001b[1;33m\u001b[0m\u001b[1;33m\u001b[0m\u001b[0m\n\u001b[0;32m   1008\u001b[0m             \u001b[0mself\u001b[0m\u001b[1;33m.\u001b[0m\u001b[0m_parent_ident\u001b[0m\u001b[1;33m[\u001b[0m\u001b[1;34m\"shell\"\u001b[0m\u001b[1;33m]\u001b[0m\u001b[1;33m,\u001b[0m\u001b[1;33m\u001b[0m\u001b[1;33m\u001b[0m\u001b[0m\n",
      "\u001b[1;32m~\\anaconda3\\lib\\site-packages\\ipykernel\\kernelbase.py\u001b[0m in \u001b[0;36m_input_request\u001b[1;34m(self, prompt, ident, parent, password)\u001b[0m\n\u001b[0;32m   1049\u001b[0m             \u001b[1;32mexcept\u001b[0m \u001b[0mKeyboardInterrupt\u001b[0m\u001b[1;33m:\u001b[0m\u001b[1;33m\u001b[0m\u001b[1;33m\u001b[0m\u001b[0m\n\u001b[0;32m   1050\u001b[0m                 \u001b[1;31m# re-raise KeyboardInterrupt, to truncate traceback\u001b[0m\u001b[1;33m\u001b[0m\u001b[1;33m\u001b[0m\u001b[0m\n\u001b[1;32m-> 1051\u001b[1;33m                 \u001b[1;32mraise\u001b[0m \u001b[0mKeyboardInterrupt\u001b[0m\u001b[1;33m(\u001b[0m\u001b[1;34m\"Interrupted by user\"\u001b[0m\u001b[1;33m)\u001b[0m \u001b[1;32mfrom\u001b[0m \u001b[1;32mNone\u001b[0m\u001b[1;33m\u001b[0m\u001b[1;33m\u001b[0m\u001b[0m\n\u001b[0m\u001b[0;32m   1052\u001b[0m             \u001b[1;32mexcept\u001b[0m \u001b[0mException\u001b[0m\u001b[1;33m:\u001b[0m\u001b[1;33m\u001b[0m\u001b[1;33m\u001b[0m\u001b[0m\n\u001b[0;32m   1053\u001b[0m                 \u001b[0mself\u001b[0m\u001b[1;33m.\u001b[0m\u001b[0mlog\u001b[0m\u001b[1;33m.\u001b[0m\u001b[0mwarning\u001b[0m\u001b[1;33m(\u001b[0m\u001b[1;34m\"Invalid Message:\"\u001b[0m\u001b[1;33m,\u001b[0m \u001b[0mexc_info\u001b[0m\u001b[1;33m=\u001b[0m\u001b[1;32mTrue\u001b[0m\u001b[1;33m)\u001b[0m\u001b[1;33m\u001b[0m\u001b[1;33m\u001b[0m\u001b[0m\n",
      "\u001b[1;31mKeyboardInterrupt\u001b[0m: Interrupted by user"
     ]
    }
   ],
   "source": [
    "x = input(\"Player 1: Please enter your word: \")\n",
    "flag1 = False\n",
    "while flag1 == False:\n",
    "    if x.strip().isdigit() == False:\n",
    "        break\n",
    "    else:\n",
    "        x = input(\"Error: Please enter a word: \")\n",
    "        flag1 = True \n",
    "x = x.lower()\n",
    "import re\n",
    "lst_of_og_letters = re.findall(r\"[a-z]\",x)\n",
    "\n",
    "Life = 12 \n",
    "lst_of_input_letters = []\n",
    "og_dic = {}\n",
    "while Life > 0 and sorted(lst_of_og_letters) != sorted(lst_of_input_letters):\n",
    "        y = input(\"Player 2: Please enter a letter: \")\n",
    "        y = y.lower()\n",
    "        flag2 = False\n",
    "        while flag2 == False:\n",
    "            if y.strip().isdigit() == False:\n",
    "                break\n",
    "            else:\n",
    "                y = input(\"Error: Please enter a letter: \")\n",
    "                flag2 = True \n",
    "        y = y.lower()\n",
    "        if y in lst_of_og_letters:\n",
    "            print(y)\n",
    "            lst_of_input_letters.append(y)\n",
    "            og_dic [y] = lst_of_og_letters.index(y)\n",
    "            print(og_dic)\n",
    "\n",
    "                "
   ]
  },
  {
   "cell_type": "code",
   "execution_count": 39,
   "id": "ccecb67b",
   "metadata": {},
   "outputs": [
    {
     "ename": "KeyboardInterrupt",
     "evalue": "Interrupted by user",
     "output_type": "error",
     "traceback": [
      "\u001b[1;31m---------------------------------------------------------------------------\u001b[0m",
      "\u001b[1;31mKeyboardInterrupt\u001b[0m                         Traceback (most recent call last)",
      "\u001b[1;32m~\\AppData\\Local\\Temp/ipykernel_3644/4170847952.py\u001b[0m in \u001b[0;36m<module>\u001b[1;34m\u001b[0m\n\u001b[1;32m----> 1\u001b[1;33m \u001b[0mx\u001b[0m \u001b[1;33m=\u001b[0m \u001b[0minput\u001b[0m\u001b[1;33m(\u001b[0m\u001b[1;34m\"Player 1: Please enter your word: \"\u001b[0m\u001b[1;33m)\u001b[0m\u001b[1;33m\u001b[0m\u001b[1;33m\u001b[0m\u001b[0m\n\u001b[0m\u001b[0;32m      2\u001b[0m \u001b[0mflag1\u001b[0m \u001b[1;33m=\u001b[0m \u001b[1;32mFalse\u001b[0m\u001b[1;33m\u001b[0m\u001b[1;33m\u001b[0m\u001b[0m\n\u001b[0;32m      3\u001b[0m \u001b[1;32mwhile\u001b[0m \u001b[0mflag1\u001b[0m \u001b[1;33m==\u001b[0m \u001b[1;32mFalse\u001b[0m\u001b[1;33m:\u001b[0m\u001b[1;33m\u001b[0m\u001b[1;33m\u001b[0m\u001b[0m\n\u001b[0;32m      4\u001b[0m     \u001b[1;32mif\u001b[0m \u001b[0mx\u001b[0m\u001b[1;33m.\u001b[0m\u001b[0mstrip\u001b[0m\u001b[1;33m(\u001b[0m\u001b[1;33m)\u001b[0m\u001b[1;33m.\u001b[0m\u001b[0misdigit\u001b[0m\u001b[1;33m(\u001b[0m\u001b[1;33m)\u001b[0m \u001b[1;33m==\u001b[0m \u001b[1;32mFalse\u001b[0m\u001b[1;33m:\u001b[0m\u001b[1;33m\u001b[0m\u001b[1;33m\u001b[0m\u001b[0m\n\u001b[0;32m      5\u001b[0m         \u001b[1;32mbreak\u001b[0m\u001b[1;33m\u001b[0m\u001b[1;33m\u001b[0m\u001b[0m\n",
      "\u001b[1;32m~\\anaconda3\\lib\\site-packages\\ipykernel\\kernelbase.py\u001b[0m in \u001b[0;36mraw_input\u001b[1;34m(self, prompt)\u001b[0m\n\u001b[0;32m   1004\u001b[0m                 \u001b[1;34m\"raw_input was called, but this frontend does not support input requests.\"\u001b[0m\u001b[1;33m\u001b[0m\u001b[1;33m\u001b[0m\u001b[0m\n\u001b[0;32m   1005\u001b[0m             )\n\u001b[1;32m-> 1006\u001b[1;33m         return self._input_request(\n\u001b[0m\u001b[0;32m   1007\u001b[0m             \u001b[0mstr\u001b[0m\u001b[1;33m(\u001b[0m\u001b[0mprompt\u001b[0m\u001b[1;33m)\u001b[0m\u001b[1;33m,\u001b[0m\u001b[1;33m\u001b[0m\u001b[1;33m\u001b[0m\u001b[0m\n\u001b[0;32m   1008\u001b[0m             \u001b[0mself\u001b[0m\u001b[1;33m.\u001b[0m\u001b[0m_parent_ident\u001b[0m\u001b[1;33m[\u001b[0m\u001b[1;34m\"shell\"\u001b[0m\u001b[1;33m]\u001b[0m\u001b[1;33m,\u001b[0m\u001b[1;33m\u001b[0m\u001b[1;33m\u001b[0m\u001b[0m\n",
      "\u001b[1;32m~\\anaconda3\\lib\\site-packages\\ipykernel\\kernelbase.py\u001b[0m in \u001b[0;36m_input_request\u001b[1;34m(self, prompt, ident, parent, password)\u001b[0m\n\u001b[0;32m   1049\u001b[0m             \u001b[1;32mexcept\u001b[0m \u001b[0mKeyboardInterrupt\u001b[0m\u001b[1;33m:\u001b[0m\u001b[1;33m\u001b[0m\u001b[1;33m\u001b[0m\u001b[0m\n\u001b[0;32m   1050\u001b[0m                 \u001b[1;31m# re-raise KeyboardInterrupt, to truncate traceback\u001b[0m\u001b[1;33m\u001b[0m\u001b[1;33m\u001b[0m\u001b[0m\n\u001b[1;32m-> 1051\u001b[1;33m                 \u001b[1;32mraise\u001b[0m \u001b[0mKeyboardInterrupt\u001b[0m\u001b[1;33m(\u001b[0m\u001b[1;34m\"Interrupted by user\"\u001b[0m\u001b[1;33m)\u001b[0m \u001b[1;32mfrom\u001b[0m \u001b[1;32mNone\u001b[0m\u001b[1;33m\u001b[0m\u001b[1;33m\u001b[0m\u001b[0m\n\u001b[0m\u001b[0;32m   1052\u001b[0m             \u001b[1;32mexcept\u001b[0m \u001b[0mException\u001b[0m\u001b[1;33m:\u001b[0m\u001b[1;33m\u001b[0m\u001b[1;33m\u001b[0m\u001b[0m\n\u001b[0;32m   1053\u001b[0m                 \u001b[0mself\u001b[0m\u001b[1;33m.\u001b[0m\u001b[0mlog\u001b[0m\u001b[1;33m.\u001b[0m\u001b[0mwarning\u001b[0m\u001b[1;33m(\u001b[0m\u001b[1;34m\"Invalid Message:\"\u001b[0m\u001b[1;33m,\u001b[0m \u001b[0mexc_info\u001b[0m\u001b[1;33m=\u001b[0m\u001b[1;32mTrue\u001b[0m\u001b[1;33m)\u001b[0m\u001b[1;33m\u001b[0m\u001b[1;33m\u001b[0m\u001b[0m\n",
      "\u001b[1;31mKeyboardInterrupt\u001b[0m: Interrupted by user"
     ]
    }
   ],
   "source": [
    "x = input(\"Player 1: Please enter your word: \")\n",
    "flag1 = False\n",
    "while flag1 == False:\n",
    "    if x.strip().isdigit() == False:\n",
    "        break\n",
    "    else:\n",
    "        x = input(\"Error: Please enter a word: \")\n",
    "        flag1 = True \n",
    "x = x.lower()\n",
    "import re\n",
    "lst_of_og_letters = re.findall(r\"[a-z]\",x)\n",
    "\n",
    "Life = 12 \n",
    "lst_of_input_letters = []\n",
    "input_dic = {}\n",
    "while Life > 0 and sorted(lst_of_og_letters) != sorted(lst_of_input_letters):\n",
    "        y = input(\"Player 2: Please enter a letter: \")\n",
    "        y = y.lower()\n",
    "        flag2 = False\n",
    "        while flag2 == False:\n",
    "            if y.strip().isdigit() == False:\n",
    "                break\n",
    "            else:\n",
    "                y = input(\"Error: Please enter a letter: \")\n",
    "                flag2 = True \n",
    "        y = y.lower()\n",
    "        \n",
    "        \n",
    "        \n",
    "        if y in lst_of_og_letters:\n",
    "            lst_of_input_letters.append(y)\n",
    "            if lst_of_og_letters.count(y) > 1:\n",
    "                lst_of_input_letters.append(y)\n",
    "            input_dic [lst_of_og_letters.index(y)+1] = lst\n",
    "            \n",
    "            \n",
    "            \n",
    "            \n",
    "            \n",
    "            #\n",
    "            #\n",
    "            \n",
    "            n = lst_of_og_letters.count(y)\n",
    "            lst_of_input_letters.append(y)\n",
    "            a = lst_of_input_letters\n",
    "            k = sorted(set(a), key=lst_of_og_letters.index)\n",
    "            if n > 1:\n",
    "                k = k.insert(lst_of_og_letters.index(y),y)\n",
    "            print(k)   \n",
    "            \n",
    "            \n",
    "            \n",
    "            \n",
    "            \n",
    "        elif y not in lst_of_og_letters:\n",
    "            print(\"not in word\")\n",
    "            Life -= 1\n",
    "\n",
    "if Life == 0:\n",
    "    print(\"PLAYER 1 WINS!!\")\n",
    "elif sorted(lst_of_og_letters) == sorted(lst_of_input_letters):\n",
    "    print(\"PLAYER 2 WINS!!\", x)"
   ]
  },
  {
   "cell_type": "code",
   "execution_count": 36,
   "id": "9d2d7b95",
   "metadata": {},
   "outputs": [
    {
     "name": "stdout",
     "output_type": "stream",
     "text": [
      "[]\n",
      "[]\n",
      "[]\n"
     ]
    }
   ],
   "source": [
    "x = [1,2,3,4,5,6]\n",
    "f = [4,5,6,7,8,9]\n",
    "\n",
    "for item in f:\n",
    "    if item in x:\n",
    "        a = x[x.index(item):x.index(item)]\n",
    "        print(a)\n"
   ]
  },
  {
   "cell_type": "code",
   "execution_count": null,
   "id": "58b4f45c",
   "metadata": {},
   "outputs": [],
   "source": []
  }
 ],
 "metadata": {
  "kernelspec": {
   "display_name": "Python 3 (ipykernel)",
   "language": "python",
   "name": "python3"
  },
  "language_info": {
   "codemirror_mode": {
    "name": "ipython",
    "version": 3
   },
   "file_extension": ".py",
   "mimetype": "text/x-python",
   "name": "python",
   "nbconvert_exporter": "python",
   "pygments_lexer": "ipython3",
   "version": "3.9.7"
  }
 },
 "nbformat": 4,
 "nbformat_minor": 5
}
