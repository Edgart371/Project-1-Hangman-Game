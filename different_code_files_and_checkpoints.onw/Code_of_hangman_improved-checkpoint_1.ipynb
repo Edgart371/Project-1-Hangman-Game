{
 "cells": [
  {
   "cell_type": "code",
   "execution_count": null,
   "id": "3f5afce6",
   "metadata": {},
   "outputs": [],
   "source": []
  },
  {
   "cell_type": "code",
   "execution_count": 16,
   "id": "6210deb3",
   "metadata": {},
   "outputs": [
    {
     "name": "stdout",
     "output_type": "stream",
     "text": [
      "Player 1: Please enter your word: COMputER\n",
      "Player 2: Please enter a letter: h\n",
      "not in word\n",
      "Player 2: Please enter a letter: a\n",
      "not in word\n",
      "Player 2: Please enter a letter: a\n",
      "not in word\n",
      "Player 2: Please enter a letter: a\n",
      "not in word\n",
      "Player 2: Please enter a letter: a\n",
      "not in word\n",
      "Player 2: Please enter a letter: a\n",
      "not in word\n",
      "Player 2: Please enter a letter: a\n",
      "not in word\n",
      "Player 2: Please enter a letter: a\n",
      "not in word\n",
      "Player 2: Please enter a letter: a\n",
      "not in word\n",
      "Player 2: Please enter a letter: a\n",
      "not in word\n",
      "Player 2: Please enter a letter: a\n",
      "not in word\n",
      "Player 2: Please enter a letter: a\n",
      "not in word\n",
      "PLAYER 1 WINS!!\n"
     ]
    }
   ],
   "source": [
    "x = input(\"Player 1: Please enter your word: \")\n",
    "flag1 = False\n",
    "while flag1 == False:\n",
    "    if x.strip().isdigit() == False:\n",
    "        break\n",
    "    else:\n",
    "        x = input(\"Error: Please enter a word: \")\n",
    "        flag1 = True \n",
    "x = x.lower()\n",
    "import re\n",
    "lst_of_og_letters = re.findall(r\"[a-z]\",x)\n",
    "\n",
    "Life = 12 \n",
    "lst_of_input_letters = []\n",
    "while Life > 0 and lst_of_og_letters != lst_of_input_letters:\n",
    "        y = input(\"Player 2: Please enter a letter: \")\n",
    "        y = y.lower()\n",
    "        flag2 = False\n",
    "        while flag2 == False:\n",
    "            if y.strip().isdigit() == False:\n",
    "                break\n",
    "            else:\n",
    "                y = input(\"Error: Please enter a letter: \")\n",
    "                flag2 = True \n",
    "        y = y.lower()\n",
    "        if y in lst_of_og_letters:\n",
    "            print(y)\n",
    "            lst_of_input_letters.append(y)\n",
    "        elif y not in lst_of_og_letters:\n",
    "            print(\"not in word\")\n",
    "            Life -= 1\n",
    "if Life == 0:\n",
    "    print(\"PLAYER 1 WINS!!\")\n",
    "elif lst_of_input_letters == lst_of_og_letters:\n",
    "    print(\"PLAYER 2 WINS!!\")"
   ]
  },
  {
   "cell_type": "code",
   "execution_count": 12,
   "id": "3ff7275f",
   "metadata": {},
   "outputs": [
    {
     "name": "stdout",
     "output_type": "stream",
     "text": [
      "Player 2: Please enter a letter: 7\n",
      "Error: Please enter a letter: h\n"
     ]
    }
   ],
   "source": [
    "y = input(\"Player 2: Please enter a letter: \")\n",
    "flag2 = False\n",
    "while flag2 == False:\n",
    "    if y.strip().isdigit() == False:\n",
    "        break\n",
    "    else:\n",
    "        y = input(\"Error: Please enter a letter: \")\n",
    "        flag2 = True \n",
    "y = y.lower()\n"
   ]
  }
 ],
 "metadata": {
  "kernelspec": {
   "display_name": "Python 3 (ipykernel)",
   "language": "python",
   "name": "python3"
  },
  "language_info": {
   "codemirror_mode": {
    "name": "ipython",
    "version": 3
   },
   "file_extension": ".py",
   "mimetype": "text/x-python",
   "name": "python",
   "nbconvert_exporter": "python",
   "pygments_lexer": "ipython3",
   "version": "3.9.7"
  }
 },
 "nbformat": 4,
 "nbformat_minor": 5
}
