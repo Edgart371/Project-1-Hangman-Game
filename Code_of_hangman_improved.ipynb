{
 "cells": [
  {
   "cell_type": "code",
   "execution_count": null,
   "id": "29b09e0f",
   "metadata": {},
   "outputs": [],
   "source": []
  },
  {
   "cell_type": "code",
   "execution_count": 34,
   "id": "76fddc44",
   "metadata": {},
   "outputs": [
    {
     "name": "stdout",
     "output_type": "stream",
     "text": [
      "Player 1: Please enter your word: hello\n",
      "Player 2: Please enter a letter: b\n",
      "not in word\n",
      "Player 2: Please enter a letter: b\n",
      "not in word\n",
      "Player 2: Please enter a letter: b\n",
      "not in word\n",
      "Player 2: Please enter a letter: b\n",
      "not in word\n",
      "Player 2: Please enter a letter: b\n",
      "not in word\n",
      "Player 2: Please enter a letter: b\n",
      "not in word\n",
      "Player 2: Please enter a letter: b\n",
      "not in word\n",
      "Player 2: Please enter a letter: b\n",
      "not in word\n",
      "Player 2: Please enter a letter: b\n",
      "not in word\n",
      "Player 2: Please enter a letter: b\n",
      "not in word\n",
      "Player 2: Please enter a letter: b\n",
      "not in word\n",
      "Player 2: Please enter a letter: b\n",
      "not in word\n",
      "PLAYER 1 WINS!!\n"
     ]
    }
   ],
   "source": [
    "x = input(\"Player 1: Please enter your word: \")\n",
    "flag1 = False\n",
    "while flag1 == False:\n",
    "    if x.strip().isdigit() == False:\n",
    "        break\n",
    "    else:\n",
    "        x = input(\"Error: Please enter a word: \")\n",
    "        flag1 = True \n",
    "x = x.lower()\n",
    "import re\n",
    "lst_of_og_letters = re.findall(r\"[a-z]\",x)\n",
    "\n",
    "Life = 12 \n",
    "lst_of_input_letters = []\n",
    "while Life > 0 and lst_of_og_letters != lst_of_input_letters:\n",
    "        y = input(\"Player 2: Please enter a letter: \")\n",
    "        y = y.lower()\n",
    "        flag2 = False\n",
    "        while flag2 == False:\n",
    "            if y.strip().isdigit() == False:\n",
    "                break\n",
    "            else:\n",
    "                y = input(\"Error: Please enter a letter: \")\n",
    "                flag2 = True \n",
    "        y = y.lower()\n",
    "        if y in lst_of_og_letters:\n",
    "            print(y)\n",
    "            lst_of_input_letters.append(y)\n",
    "        elif y not in lst_of_og_letters:\n",
    "            print(\"not in word\")\n",
    "            Life -= 1\n",
    "if Life == 0:\n",
    "    print(\"PLAYER 1 WINS!!\")\n",
    "elif lst_of_input_letters == lst_of_og_letters:\n",
    "    print(\"PLAYER 2 WINS!!\")"
   ]
  },
  {
   "cell_type": "code",
   "execution_count": 12,
   "id": "011db890",
   "metadata": {},
   "outputs": [
    {
     "name": "stdout",
     "output_type": "stream",
     "text": [
      "Player 2: Please enter a letter: 7\n",
      "Error: Please enter a letter: h\n"
     ]
    }
   ],
   "source": [
    "y = input(\"Player 2: Please enter a letter: \")\n",
    "flag2 = False\n",
    "while flag2 == False:\n",
    "    if y.strip().isdigit() == False:\n",
    "        break\n",
    "    else:\n",
    "        y = input(\"Error: Please enter a letter: \")\n",
    "        flag2 = True \n",
    "y = y.lower()\n"
   ]
  },
  {
   "cell_type": "code",
   "execution_count": null,
   "id": "832d77a7",
   "metadata": {},
   "outputs": [],
   "source": [
    "b"
   ]
  },
  {
   "cell_type": "code",
   "execution_count": 21,
   "id": "2f6829b4",
   "metadata": {},
   "outputs": [
    {
     "name": "stdout",
     "output_type": "stream",
     "text": [
      "Player 1: Please enter your word: hello\n",
      "Player 2: Please enter a letter: h\n",
      "{'h': 1}\n",
      "['h']\n",
      "Player 2: Please enter a letter: e\n",
      "{'h': 1, 'e': 2}\n",
      "['h', 'e']\n",
      "Player 2: Please enter a letter: o\n",
      "{'h': 1, 'e': 2, 'o': 5}\n",
      "['h', 'e', 'o']\n",
      "Player 2: Please enter a letter: l\n",
      "{'h': 1, 'e': 2, 'l': 3, 'o': 5}\n",
      "['h', 'e', 'o', 'l']\n",
      "Player 2: Please enter a letter: l\n",
      "{'h': 1, 'e': 2, 'l': 3, 'o': 5}\n",
      "['h', 'e', 'o', 'l', 'l']\n"
     ]
    },
    {
     "ename": "KeyboardInterrupt",
     "evalue": "Interrupted by user",
     "output_type": "error",
     "traceback": [
      "\u001b[1;31m---------------------------------------------------------------------------\u001b[0m",
      "\u001b[1;31mKeyboardInterrupt\u001b[0m                         Traceback (most recent call last)",
      "\u001b[1;32m~\\AppData\\Local\\Temp/ipykernel_21008/1978603148.py\u001b[0m in \u001b[0;36m<module>\u001b[1;34m\u001b[0m\n\u001b[0;32m     16\u001b[0m \u001b[1;32mimport\u001b[0m \u001b[0moperator\u001b[0m\u001b[1;33m\u001b[0m\u001b[1;33m\u001b[0m\u001b[0m\n\u001b[0;32m     17\u001b[0m \u001b[1;32mwhile\u001b[0m \u001b[0mLife\u001b[0m \u001b[1;33m>\u001b[0m \u001b[1;36m0\u001b[0m \u001b[1;32mand\u001b[0m \u001b[0mlst_of_og_letters\u001b[0m \u001b[1;33m!=\u001b[0m \u001b[0mlst_of_input_letters\u001b[0m\u001b[1;33m:\u001b[0m\u001b[1;33m\u001b[0m\u001b[1;33m\u001b[0m\u001b[0m\n\u001b[1;32m---> 18\u001b[1;33m         \u001b[0my\u001b[0m \u001b[1;33m=\u001b[0m \u001b[0minput\u001b[0m\u001b[1;33m(\u001b[0m\u001b[1;34m\"Player 2: Please enter a letter: \"\u001b[0m\u001b[1;33m)\u001b[0m\u001b[1;33m\u001b[0m\u001b[1;33m\u001b[0m\u001b[0m\n\u001b[0m\u001b[0;32m     19\u001b[0m         \u001b[0my\u001b[0m \u001b[1;33m=\u001b[0m \u001b[0my\u001b[0m\u001b[1;33m.\u001b[0m\u001b[0mlower\u001b[0m\u001b[1;33m(\u001b[0m\u001b[1;33m)\u001b[0m\u001b[1;33m\u001b[0m\u001b[1;33m\u001b[0m\u001b[0m\n\u001b[0;32m     20\u001b[0m         \u001b[0mflag2\u001b[0m \u001b[1;33m=\u001b[0m \u001b[1;32mFalse\u001b[0m\u001b[1;33m\u001b[0m\u001b[1;33m\u001b[0m\u001b[0m\n",
      "\u001b[1;32m~\\anaconda3\\lib\\site-packages\\ipykernel\\kernelbase.py\u001b[0m in \u001b[0;36mraw_input\u001b[1;34m(self, prompt)\u001b[0m\n\u001b[0;32m   1004\u001b[0m                 \u001b[1;34m\"raw_input was called, but this frontend does not support input requests.\"\u001b[0m\u001b[1;33m\u001b[0m\u001b[1;33m\u001b[0m\u001b[0m\n\u001b[0;32m   1005\u001b[0m             )\n\u001b[1;32m-> 1006\u001b[1;33m         return self._input_request(\n\u001b[0m\u001b[0;32m   1007\u001b[0m             \u001b[0mstr\u001b[0m\u001b[1;33m(\u001b[0m\u001b[0mprompt\u001b[0m\u001b[1;33m)\u001b[0m\u001b[1;33m,\u001b[0m\u001b[1;33m\u001b[0m\u001b[1;33m\u001b[0m\u001b[0m\n\u001b[0;32m   1008\u001b[0m             \u001b[0mself\u001b[0m\u001b[1;33m.\u001b[0m\u001b[0m_parent_ident\u001b[0m\u001b[1;33m[\u001b[0m\u001b[1;34m\"shell\"\u001b[0m\u001b[1;33m]\u001b[0m\u001b[1;33m,\u001b[0m\u001b[1;33m\u001b[0m\u001b[1;33m\u001b[0m\u001b[0m\n",
      "\u001b[1;32m~\\anaconda3\\lib\\site-packages\\ipykernel\\kernelbase.py\u001b[0m in \u001b[0;36m_input_request\u001b[1;34m(self, prompt, ident, parent, password)\u001b[0m\n\u001b[0;32m   1049\u001b[0m             \u001b[1;32mexcept\u001b[0m \u001b[0mKeyboardInterrupt\u001b[0m\u001b[1;33m:\u001b[0m\u001b[1;33m\u001b[0m\u001b[1;33m\u001b[0m\u001b[0m\n\u001b[0;32m   1050\u001b[0m                 \u001b[1;31m# re-raise KeyboardInterrupt, to truncate traceback\u001b[0m\u001b[1;33m\u001b[0m\u001b[1;33m\u001b[0m\u001b[0m\n\u001b[1;32m-> 1051\u001b[1;33m                 \u001b[1;32mraise\u001b[0m \u001b[0mKeyboardInterrupt\u001b[0m\u001b[1;33m(\u001b[0m\u001b[1;34m\"Interrupted by user\"\u001b[0m\u001b[1;33m)\u001b[0m \u001b[1;32mfrom\u001b[0m \u001b[1;32mNone\u001b[0m\u001b[1;33m\u001b[0m\u001b[1;33m\u001b[0m\u001b[0m\n\u001b[0m\u001b[0;32m   1052\u001b[0m             \u001b[1;32mexcept\u001b[0m \u001b[0mException\u001b[0m\u001b[1;33m:\u001b[0m\u001b[1;33m\u001b[0m\u001b[1;33m\u001b[0m\u001b[0m\n\u001b[0;32m   1053\u001b[0m                 \u001b[0mself\u001b[0m\u001b[1;33m.\u001b[0m\u001b[0mlog\u001b[0m\u001b[1;33m.\u001b[0m\u001b[0mwarning\u001b[0m\u001b[1;33m(\u001b[0m\u001b[1;34m\"Invalid Message:\"\u001b[0m\u001b[1;33m,\u001b[0m \u001b[0mexc_info\u001b[0m\u001b[1;33m=\u001b[0m\u001b[1;32mTrue\u001b[0m\u001b[1;33m)\u001b[0m\u001b[1;33m\u001b[0m\u001b[1;33m\u001b[0m\u001b[0m\n",
      "\u001b[1;31mKeyboardInterrupt\u001b[0m: Interrupted by user"
     ]
    }
   ],
   "source": [
    "x = input(\"Player 1: Please enter your word: \")\n",
    "flag1 = False\n",
    "while flag1 == False:\n",
    "    if x.strip().isdigit() == False:\n",
    "        break\n",
    "    else:\n",
    "        x = input(\"Error: Please enter a word: \")\n",
    "        flag1 = True \n",
    "x = x.lower()\n",
    "import re\n",
    "lst_of_og_letters = re.findall(r\"[a-z]\",x)\n",
    "\n",
    "Life = 12 \n",
    "lst_of_input_letters = []\n",
    "position_let = {}\n",
    "import operator\n",
    "while Life > 0 and lst_of_og_letters != lst_of_input_letters:\n",
    "        y = input(\"Player 2: Please enter a letter: \")\n",
    "        y = y.lower()\n",
    "        flag2 = False\n",
    "        while flag2 == False:\n",
    "            if y.strip().isdigit() == False:\n",
    "                break\n",
    "            else:\n",
    "                y = input(\"Error: Please enter a letter: \")\n",
    "                flag2 = True \n",
    "        y = y.lower()\n",
    "        if y in lst_of_og_letters:\n",
    "            lst_of_input_letters.append(y)\n",
    "            position_let [y] = lst_of_og_letters.index(y)+1\n",
    "            position = dict(sorted(position_let.items(), key=operator.itemgetter(1)))\n",
    "            print(position)\n",
    "            print(lst_of_input_letters)\n",
    "        elif y not in lst_of_og_letters:\n",
    "            print(\"not in word\")\n",
    "            Life -= 1\n",
    "if Life == 0:\n",
    "    print(\"PLAYER 1 WINS!!\")\n",
    "elif lst_of_input_letters == lst_of_og_letters:\n",
    "    print(\"PLAYER 2 WINS!!\")"
   ]
  },
  {
   "cell_type": "code",
   "execution_count": 33,
   "id": "ffa947bc",
   "metadata": {},
   "outputs": [
    {
     "name": "stdout",
     "output_type": "stream",
     "text": [
      "Player 1: Please enter your word: hello\n",
      "Player 2: Please enter a letter: h\n",
      "['h', '1', '2', '3', '4']\n",
      "Player 2: Please enter a letter: l\n",
      "['0', '1', 'l', '3', '4']\n"
     ]
    },
    {
     "ename": "KeyboardInterrupt",
     "evalue": "Interrupted by user",
     "output_type": "error",
     "traceback": [
      "\u001b[1;31m---------------------------------------------------------------------------\u001b[0m",
      "\u001b[1;31mKeyboardInterrupt\u001b[0m                         Traceback (most recent call last)",
      "\u001b[1;32m~\\AppData\\Local\\Temp/ipykernel_21008/2434672191.py\u001b[0m in \u001b[0;36m<module>\u001b[1;34m\u001b[0m\n\u001b[0;32m     23\u001b[0m \u001b[1;32mimport\u001b[0m \u001b[0moperator\u001b[0m\u001b[1;33m\u001b[0m\u001b[1;33m\u001b[0m\u001b[0m\n\u001b[0;32m     24\u001b[0m \u001b[1;32mwhile\u001b[0m \u001b[0mLife\u001b[0m \u001b[1;33m>\u001b[0m \u001b[1;36m0\u001b[0m \u001b[1;32mand\u001b[0m \u001b[0mlst_of_og_letters\u001b[0m \u001b[1;33m!=\u001b[0m \u001b[0mlst_of_input_letters\u001b[0m\u001b[1;33m:\u001b[0m\u001b[1;33m\u001b[0m\u001b[1;33m\u001b[0m\u001b[0m\n\u001b[1;32m---> 25\u001b[1;33m         \u001b[0my\u001b[0m \u001b[1;33m=\u001b[0m \u001b[0minput\u001b[0m\u001b[1;33m(\u001b[0m\u001b[1;34m\"Player 2: Please enter a letter: \"\u001b[0m\u001b[1;33m)\u001b[0m\u001b[1;33m\u001b[0m\u001b[1;33m\u001b[0m\u001b[0m\n\u001b[0m\u001b[0;32m     26\u001b[0m         \u001b[0my\u001b[0m \u001b[1;33m=\u001b[0m \u001b[0my\u001b[0m\u001b[1;33m.\u001b[0m\u001b[0mlower\u001b[0m\u001b[1;33m(\u001b[0m\u001b[1;33m)\u001b[0m\u001b[1;33m\u001b[0m\u001b[1;33m\u001b[0m\u001b[0m\n\u001b[0;32m     27\u001b[0m         \u001b[0mflag2\u001b[0m \u001b[1;33m=\u001b[0m \u001b[1;32mFalse\u001b[0m\u001b[1;33m\u001b[0m\u001b[1;33m\u001b[0m\u001b[0m\n",
      "\u001b[1;32m~\\anaconda3\\lib\\site-packages\\ipykernel\\kernelbase.py\u001b[0m in \u001b[0;36mraw_input\u001b[1;34m(self, prompt)\u001b[0m\n\u001b[0;32m   1004\u001b[0m                 \u001b[1;34m\"raw_input was called, but this frontend does not support input requests.\"\u001b[0m\u001b[1;33m\u001b[0m\u001b[1;33m\u001b[0m\u001b[0m\n\u001b[0;32m   1005\u001b[0m             )\n\u001b[1;32m-> 1006\u001b[1;33m         return self._input_request(\n\u001b[0m\u001b[0;32m   1007\u001b[0m             \u001b[0mstr\u001b[0m\u001b[1;33m(\u001b[0m\u001b[0mprompt\u001b[0m\u001b[1;33m)\u001b[0m\u001b[1;33m,\u001b[0m\u001b[1;33m\u001b[0m\u001b[1;33m\u001b[0m\u001b[0m\n\u001b[0;32m   1008\u001b[0m             \u001b[0mself\u001b[0m\u001b[1;33m.\u001b[0m\u001b[0m_parent_ident\u001b[0m\u001b[1;33m[\u001b[0m\u001b[1;34m\"shell\"\u001b[0m\u001b[1;33m]\u001b[0m\u001b[1;33m,\u001b[0m\u001b[1;33m\u001b[0m\u001b[1;33m\u001b[0m\u001b[0m\n",
      "\u001b[1;32m~\\anaconda3\\lib\\site-packages\\ipykernel\\kernelbase.py\u001b[0m in \u001b[0;36m_input_request\u001b[1;34m(self, prompt, ident, parent, password)\u001b[0m\n\u001b[0;32m   1049\u001b[0m             \u001b[1;32mexcept\u001b[0m \u001b[0mKeyboardInterrupt\u001b[0m\u001b[1;33m:\u001b[0m\u001b[1;33m\u001b[0m\u001b[1;33m\u001b[0m\u001b[0m\n\u001b[0;32m   1050\u001b[0m                 \u001b[1;31m# re-raise KeyboardInterrupt, to truncate traceback\u001b[0m\u001b[1;33m\u001b[0m\u001b[1;33m\u001b[0m\u001b[0m\n\u001b[1;32m-> 1051\u001b[1;33m                 \u001b[1;32mraise\u001b[0m \u001b[0mKeyboardInterrupt\u001b[0m\u001b[1;33m(\u001b[0m\u001b[1;34m\"Interrupted by user\"\u001b[0m\u001b[1;33m)\u001b[0m \u001b[1;32mfrom\u001b[0m \u001b[1;32mNone\u001b[0m\u001b[1;33m\u001b[0m\u001b[1;33m\u001b[0m\u001b[0m\n\u001b[0m\u001b[0;32m   1052\u001b[0m             \u001b[1;32mexcept\u001b[0m \u001b[0mException\u001b[0m\u001b[1;33m:\u001b[0m\u001b[1;33m\u001b[0m\u001b[1;33m\u001b[0m\u001b[0m\n\u001b[0;32m   1053\u001b[0m                 \u001b[0mself\u001b[0m\u001b[1;33m.\u001b[0m\u001b[0mlog\u001b[0m\u001b[1;33m.\u001b[0m\u001b[0mwarning\u001b[0m\u001b[1;33m(\u001b[0m\u001b[1;34m\"Invalid Message:\"\u001b[0m\u001b[1;33m,\u001b[0m \u001b[0mexc_info\u001b[0m\u001b[1;33m=\u001b[0m\u001b[1;32mTrue\u001b[0m\u001b[1;33m)\u001b[0m\u001b[1;33m\u001b[0m\u001b[1;33m\u001b[0m\u001b[0m\n",
      "\u001b[1;31mKeyboardInterrupt\u001b[0m: Interrupted by user"
     ]
    }
   ],
   "source": [
    "import re\n",
    "x = input(\"Player 1: Please enter your word: \")\n",
    "flag1 = False\n",
    "while flag1 == False:\n",
    "    if x.strip().isdigit() == False:\n",
    "        break\n",
    "    else:\n",
    "        x = input(\"Error: Please enter a word: \")\n",
    "        flag1 = True \n",
    "x = x.lower()\n",
    "import re\n",
    "lst_of_og_letters = re.findall(r\"[a-z]\",x)\n",
    "\n",
    "\n",
    "    \n",
    "    \n",
    "Life = 12 \n",
    "lst_of_input_letters = []\n",
    "display_word = []\n",
    "for b in range(len(lst_of_og_letters)):\n",
    "    display_word.append(str(b))\n",
    "\n",
    "while Life > 0 and lst_of_og_letters != lst_of_input_letters:\n",
    "        y = input(\"Player 2: Please enter a letter: \")\n",
    "        y = y.lower()\n",
    "        flag2 = False\n",
    "        while flag2 == False:\n",
    "            if y.strip().isdigit() == False:\n",
    "                break\n",
    "            else:\n",
    "                y = input(\"Error: Please enter a letter: \")\n",
    "                flag2 = True \n",
    "        y = y.lower()\n",
    "        if y in lst_of_og_letters:\n",
    "            lst_of_input_letters.append(y)\n",
    "        elif y not in lst_of_og_letters:\n",
    "            print(\"not in word\")\n",
    "            Life -= 1\n",
    "            \n",
    "if Life == 0:\n",
    "    print(\"PLAYER 1 WINS!!\")\n",
    "elif lst_of_input_letters == lst_of_og_letters:\n",
    "    print(\"PLAYER 2 WINS!!\")    \n",
    "    \n",
    "    \n",
    "    \n",
    "    \n"
   ]
  },
  {
   "cell_type": "code",
   "execution_count": null,
   "id": "2a9df16c",
   "metadata": {},
   "outputs": [],
   "source": []
  }
 ],
 "metadata": {
  "kernelspec": {
   "display_name": "Python 3 (ipykernel)",
   "language": "python",
   "name": "python3"
  },
  "language_info": {
   "codemirror_mode": {
    "name": "ipython",
    "version": 3
   },
   "file_extension": ".py",
   "mimetype": "text/x-python",
   "name": "python",
   "nbconvert_exporter": "python",
   "pygments_lexer": "ipython3",
   "version": "3.9.7"
  }
 },
 "nbformat": 4,
 "nbformat_minor": 5
}
